{
 "cells": [
  {
   "cell_type": "code",
   "execution_count": 209,
   "metadata": {},
   "outputs": [
    {
     "data": {
      "text/html": [
       "<div>\n",
       "<style scoped>\n",
       "    .dataframe tbody tr th:only-of-type {\n",
       "        vertical-align: middle;\n",
       "    }\n",
       "\n",
       "    .dataframe tbody tr th {\n",
       "        vertical-align: top;\n",
       "    }\n",
       "\n",
       "    .dataframe thead th {\n",
       "        text-align: right;\n",
       "    }\n",
       "</style>\n",
       "<table border=\"1\" class=\"dataframe\">\n",
       "  <thead>\n",
       "    <tr style=\"text-align: right;\">\n",
       "      <th></th>\n",
       "      <th>age</th>\n",
       "      <th>workclass</th>\n",
       "      <th>fnlwgt</th>\n",
       "      <th>education</th>\n",
       "      <th>education-num</th>\n",
       "      <th>marital-status</th>\n",
       "      <th>occupation</th>\n",
       "      <th>relationship</th>\n",
       "      <th>race</th>\n",
       "      <th>sex</th>\n",
       "      <th>capital-gain</th>\n",
       "      <th>capital-loss</th>\n",
       "      <th>hours-per-week</th>\n",
       "      <th>native-country</th>\n",
       "      <th>salary</th>\n",
       "    </tr>\n",
       "  </thead>\n",
       "  <tbody>\n",
       "    <tr>\n",
       "      <th>0</th>\n",
       "      <td>39</td>\n",
       "      <td>State-gov</td>\n",
       "      <td>77516</td>\n",
       "      <td>Bachelors</td>\n",
       "      <td>13</td>\n",
       "      <td>Never-married</td>\n",
       "      <td>Adm-clerical</td>\n",
       "      <td>Not-in-family</td>\n",
       "      <td>White</td>\n",
       "      <td>Male</td>\n",
       "      <td>2174</td>\n",
       "      <td>0</td>\n",
       "      <td>40</td>\n",
       "      <td>United-States</td>\n",
       "      <td>&lt;=50K</td>\n",
       "    </tr>\n",
       "    <tr>\n",
       "      <th>1</th>\n",
       "      <td>50</td>\n",
       "      <td>Self-emp-not-inc</td>\n",
       "      <td>83311</td>\n",
       "      <td>Bachelors</td>\n",
       "      <td>13</td>\n",
       "      <td>Married-civ-spouse</td>\n",
       "      <td>Exec-managerial</td>\n",
       "      <td>Husband</td>\n",
       "      <td>White</td>\n",
       "      <td>Male</td>\n",
       "      <td>0</td>\n",
       "      <td>0</td>\n",
       "      <td>13</td>\n",
       "      <td>United-States</td>\n",
       "      <td>&lt;=50K</td>\n",
       "    </tr>\n",
       "    <tr>\n",
       "      <th>2</th>\n",
       "      <td>38</td>\n",
       "      <td>Private</td>\n",
       "      <td>215646</td>\n",
       "      <td>HS-grad</td>\n",
       "      <td>9</td>\n",
       "      <td>Divorced</td>\n",
       "      <td>Handlers-cleaners</td>\n",
       "      <td>Not-in-family</td>\n",
       "      <td>White</td>\n",
       "      <td>Male</td>\n",
       "      <td>0</td>\n",
       "      <td>0</td>\n",
       "      <td>40</td>\n",
       "      <td>United-States</td>\n",
       "      <td>&lt;=50K</td>\n",
       "    </tr>\n",
       "    <tr>\n",
       "      <th>3</th>\n",
       "      <td>53</td>\n",
       "      <td>Private</td>\n",
       "      <td>234721</td>\n",
       "      <td>11th</td>\n",
       "      <td>7</td>\n",
       "      <td>Married-civ-spouse</td>\n",
       "      <td>Handlers-cleaners</td>\n",
       "      <td>Husband</td>\n",
       "      <td>Black</td>\n",
       "      <td>Male</td>\n",
       "      <td>0</td>\n",
       "      <td>0</td>\n",
       "      <td>40</td>\n",
       "      <td>United-States</td>\n",
       "      <td>&lt;=50K</td>\n",
       "    </tr>\n",
       "    <tr>\n",
       "      <th>4</th>\n",
       "      <td>28</td>\n",
       "      <td>Private</td>\n",
       "      <td>338409</td>\n",
       "      <td>Bachelors</td>\n",
       "      <td>13</td>\n",
       "      <td>Married-civ-spouse</td>\n",
       "      <td>Prof-specialty</td>\n",
       "      <td>Wife</td>\n",
       "      <td>Black</td>\n",
       "      <td>Female</td>\n",
       "      <td>0</td>\n",
       "      <td>0</td>\n",
       "      <td>40</td>\n",
       "      <td>Cuba</td>\n",
       "      <td>&lt;=50K</td>\n",
       "    </tr>\n",
       "  </tbody>\n",
       "</table>\n",
       "</div>"
      ],
      "text/plain": [
       "   age         workclass  fnlwgt  education  education-num  \\\n",
       "0   39         State-gov   77516  Bachelors             13   \n",
       "1   50  Self-emp-not-inc   83311  Bachelors             13   \n",
       "2   38           Private  215646    HS-grad              9   \n",
       "3   53           Private  234721       11th              7   \n",
       "4   28           Private  338409  Bachelors             13   \n",
       "\n",
       "       marital-status         occupation   relationship   race     sex  \\\n",
       "0       Never-married       Adm-clerical  Not-in-family  White    Male   \n",
       "1  Married-civ-spouse    Exec-managerial        Husband  White    Male   \n",
       "2            Divorced  Handlers-cleaners  Not-in-family  White    Male   \n",
       "3  Married-civ-spouse  Handlers-cleaners        Husband  Black    Male   \n",
       "4  Married-civ-spouse     Prof-specialty           Wife  Black  Female   \n",
       "\n",
       "   capital-gain  capital-loss  hours-per-week native-country salary  \n",
       "0          2174             0              40  United-States  <=50K  \n",
       "1             0             0              13  United-States  <=50K  \n",
       "2             0             0              40  United-States  <=50K  \n",
       "3             0             0              40  United-States  <=50K  \n",
       "4             0             0              40           Cuba  <=50K  "
      ]
     },
     "execution_count": 209,
     "metadata": {},
     "output_type": "execute_result"
    }
   ],
   "source": [
    "#Reading file\n",
    "import pandas as pd\n",
    "data =pd.read_csv(r'C:\\Users\\papaainoo\\Documents\\Data Analyst Projects\\Adult Data\\adult.data.csv')\n",
    "data.head()"
   ]
  },
  {
   "cell_type": "code",
   "execution_count": 210,
   "metadata": {},
   "outputs": [],
   "source": [
    "data['DataFrame Column']=data['age'].astype(int)"
   ]
  },
  {
   "cell_type": "code",
   "execution_count": 211,
   "metadata": {},
   "outputs": [
    {
     "data": {
      "text/plain": [
       "(32561, 16)"
      ]
     },
     "execution_count": 211,
     "metadata": {},
     "output_type": "execute_result"
    }
   ],
   "source": [
    "#finding shape of data\n",
    "data.shape"
   ]
  },
  {
   "cell_type": "code",
   "execution_count": 212,
   "metadata": {},
   "outputs": [
    {
     "data": {
      "text/plain": [
       "White                 27816\n",
       "Black                  3124\n",
       "Asian-Pac-Islander     1039\n",
       "Amer-Indian-Eskimo      311\n",
       "Other                   271\n",
       "Name: race, dtype: int64"
      ]
     },
     "execution_count": 212,
     "metadata": {},
     "output_type": "execute_result"
    }
   ],
   "source": [
    "# Counting race by index\n",
    "race_count = data['race'].value_counts()\n",
    "race_count"
   ]
  },
  {
   "cell_type": "code",
   "execution_count": 213,
   "metadata": {},
   "outputs": [
    {
     "name": "stdout",
     "output_type": "stream",
     "text": [
      "The average age of men is 39.43354749885268\n"
     ]
    }
   ],
   "source": [
    "#finding the average age of men\n",
    "average_age_men = data.loc[data['sex']== 'Male','age'].mean()\n",
    "print(f\"The average age of men is {(data.loc[data['sex']== 'Male','age'].mean())}\")"
   ]
  },
  {
   "cell_type": "code",
   "execution_count": 214,
   "metadata": {},
   "outputs": [
    {
     "name": "stdout",
     "output_type": "stream",
     "text": [
      "The average age of men is 39.43354749885268\n"
     ]
    }
   ],
   "source": [
    "print(f\"The average age of men is {(data.loc[data['sex']== 'Male','age'].mean())}\")"
   ]
  },
  {
   "cell_type": "code",
   "execution_count": 215,
   "metadata": {},
   "outputs": [
    {
     "data": {
      "text/plain": [
       "5355"
      ]
     },
     "execution_count": 215,
     "metadata": {},
     "output_type": "execute_result"
    }
   ],
   "source": [
    "#Total count of those with Bachelors\n",
    "data.education.value_counts().Bachelors"
   ]
  },
  {
   "cell_type": "code",
   "execution_count": 216,
   "metadata": {},
   "outputs": [
    {
     "data": {
      "text/html": [
       "<div>\n",
       "<style scoped>\n",
       "    .dataframe tbody tr th:only-of-type {\n",
       "        vertical-align: middle;\n",
       "    }\n",
       "\n",
       "    .dataframe tbody tr th {\n",
       "        vertical-align: top;\n",
       "    }\n",
       "\n",
       "    .dataframe thead th {\n",
       "        text-align: right;\n",
       "    }\n",
       "</style>\n",
       "<table border=\"1\" class=\"dataframe\">\n",
       "  <thead>\n",
       "    <tr style=\"text-align: right;\">\n",
       "      <th></th>\n",
       "      <th>age</th>\n",
       "      <th>workclass</th>\n",
       "      <th>fnlwgt</th>\n",
       "      <th>education-num</th>\n",
       "      <th>marital-status</th>\n",
       "      <th>occupation</th>\n",
       "      <th>relationship</th>\n",
       "      <th>race</th>\n",
       "      <th>sex</th>\n",
       "      <th>capital-gain</th>\n",
       "      <th>capital-loss</th>\n",
       "      <th>hours-per-week</th>\n",
       "      <th>native-country</th>\n",
       "      <th>salary</th>\n",
       "      <th>DataFrame Column</th>\n",
       "    </tr>\n",
       "    <tr>\n",
       "      <th>education</th>\n",
       "      <th></th>\n",
       "      <th></th>\n",
       "      <th></th>\n",
       "      <th></th>\n",
       "      <th></th>\n",
       "      <th></th>\n",
       "      <th></th>\n",
       "      <th></th>\n",
       "      <th></th>\n",
       "      <th></th>\n",
       "      <th></th>\n",
       "      <th></th>\n",
       "      <th></th>\n",
       "      <th></th>\n",
       "      <th></th>\n",
       "    </tr>\n",
       "  </thead>\n",
       "  <tbody>\n",
       "    <tr>\n",
       "      <th>10th</th>\n",
       "      <td>933</td>\n",
       "      <td>933</td>\n",
       "      <td>933</td>\n",
       "      <td>933</td>\n",
       "      <td>933</td>\n",
       "      <td>933</td>\n",
       "      <td>933</td>\n",
       "      <td>933</td>\n",
       "      <td>933</td>\n",
       "      <td>933</td>\n",
       "      <td>933</td>\n",
       "      <td>933</td>\n",
       "      <td>933</td>\n",
       "      <td>933</td>\n",
       "      <td>933</td>\n",
       "    </tr>\n",
       "    <tr>\n",
       "      <th>11th</th>\n",
       "      <td>1175</td>\n",
       "      <td>1175</td>\n",
       "      <td>1175</td>\n",
       "      <td>1175</td>\n",
       "      <td>1175</td>\n",
       "      <td>1175</td>\n",
       "      <td>1175</td>\n",
       "      <td>1175</td>\n",
       "      <td>1175</td>\n",
       "      <td>1175</td>\n",
       "      <td>1175</td>\n",
       "      <td>1175</td>\n",
       "      <td>1175</td>\n",
       "      <td>1175</td>\n",
       "      <td>1175</td>\n",
       "    </tr>\n",
       "    <tr>\n",
       "      <th>12th</th>\n",
       "      <td>433</td>\n",
       "      <td>433</td>\n",
       "      <td>433</td>\n",
       "      <td>433</td>\n",
       "      <td>433</td>\n",
       "      <td>433</td>\n",
       "      <td>433</td>\n",
       "      <td>433</td>\n",
       "      <td>433</td>\n",
       "      <td>433</td>\n",
       "      <td>433</td>\n",
       "      <td>433</td>\n",
       "      <td>433</td>\n",
       "      <td>433</td>\n",
       "      <td>433</td>\n",
       "    </tr>\n",
       "    <tr>\n",
       "      <th>1st-4th</th>\n",
       "      <td>168</td>\n",
       "      <td>168</td>\n",
       "      <td>168</td>\n",
       "      <td>168</td>\n",
       "      <td>168</td>\n",
       "      <td>168</td>\n",
       "      <td>168</td>\n",
       "      <td>168</td>\n",
       "      <td>168</td>\n",
       "      <td>168</td>\n",
       "      <td>168</td>\n",
       "      <td>168</td>\n",
       "      <td>168</td>\n",
       "      <td>168</td>\n",
       "      <td>168</td>\n",
       "    </tr>\n",
       "    <tr>\n",
       "      <th>5th-6th</th>\n",
       "      <td>333</td>\n",
       "      <td>333</td>\n",
       "      <td>333</td>\n",
       "      <td>333</td>\n",
       "      <td>333</td>\n",
       "      <td>333</td>\n",
       "      <td>333</td>\n",
       "      <td>333</td>\n",
       "      <td>333</td>\n",
       "      <td>333</td>\n",
       "      <td>333</td>\n",
       "      <td>333</td>\n",
       "      <td>333</td>\n",
       "      <td>333</td>\n",
       "      <td>333</td>\n",
       "    </tr>\n",
       "    <tr>\n",
       "      <th>7th-8th</th>\n",
       "      <td>646</td>\n",
       "      <td>646</td>\n",
       "      <td>646</td>\n",
       "      <td>646</td>\n",
       "      <td>646</td>\n",
       "      <td>646</td>\n",
       "      <td>646</td>\n",
       "      <td>646</td>\n",
       "      <td>646</td>\n",
       "      <td>646</td>\n",
       "      <td>646</td>\n",
       "      <td>646</td>\n",
       "      <td>646</td>\n",
       "      <td>646</td>\n",
       "      <td>646</td>\n",
       "    </tr>\n",
       "    <tr>\n",
       "      <th>9th</th>\n",
       "      <td>514</td>\n",
       "      <td>514</td>\n",
       "      <td>514</td>\n",
       "      <td>514</td>\n",
       "      <td>514</td>\n",
       "      <td>514</td>\n",
       "      <td>514</td>\n",
       "      <td>514</td>\n",
       "      <td>514</td>\n",
       "      <td>514</td>\n",
       "      <td>514</td>\n",
       "      <td>514</td>\n",
       "      <td>514</td>\n",
       "      <td>514</td>\n",
       "      <td>514</td>\n",
       "    </tr>\n",
       "    <tr>\n",
       "      <th>Assoc-acdm</th>\n",
       "      <td>1067</td>\n",
       "      <td>1067</td>\n",
       "      <td>1067</td>\n",
       "      <td>1067</td>\n",
       "      <td>1067</td>\n",
       "      <td>1067</td>\n",
       "      <td>1067</td>\n",
       "      <td>1067</td>\n",
       "      <td>1067</td>\n",
       "      <td>1067</td>\n",
       "      <td>1067</td>\n",
       "      <td>1067</td>\n",
       "      <td>1067</td>\n",
       "      <td>1067</td>\n",
       "      <td>1067</td>\n",
       "    </tr>\n",
       "    <tr>\n",
       "      <th>Assoc-voc</th>\n",
       "      <td>1382</td>\n",
       "      <td>1382</td>\n",
       "      <td>1382</td>\n",
       "      <td>1382</td>\n",
       "      <td>1382</td>\n",
       "      <td>1382</td>\n",
       "      <td>1382</td>\n",
       "      <td>1382</td>\n",
       "      <td>1382</td>\n",
       "      <td>1382</td>\n",
       "      <td>1382</td>\n",
       "      <td>1382</td>\n",
       "      <td>1382</td>\n",
       "      <td>1382</td>\n",
       "      <td>1382</td>\n",
       "    </tr>\n",
       "    <tr>\n",
       "      <th>Bachelors</th>\n",
       "      <td>5355</td>\n",
       "      <td>5355</td>\n",
       "      <td>5355</td>\n",
       "      <td>5355</td>\n",
       "      <td>5355</td>\n",
       "      <td>5355</td>\n",
       "      <td>5355</td>\n",
       "      <td>5355</td>\n",
       "      <td>5355</td>\n",
       "      <td>5355</td>\n",
       "      <td>5355</td>\n",
       "      <td>5355</td>\n",
       "      <td>5355</td>\n",
       "      <td>5355</td>\n",
       "      <td>5355</td>\n",
       "    </tr>\n",
       "    <tr>\n",
       "      <th>Doctorate</th>\n",
       "      <td>413</td>\n",
       "      <td>413</td>\n",
       "      <td>413</td>\n",
       "      <td>413</td>\n",
       "      <td>413</td>\n",
       "      <td>413</td>\n",
       "      <td>413</td>\n",
       "      <td>413</td>\n",
       "      <td>413</td>\n",
       "      <td>413</td>\n",
       "      <td>413</td>\n",
       "      <td>413</td>\n",
       "      <td>413</td>\n",
       "      <td>413</td>\n",
       "      <td>413</td>\n",
       "    </tr>\n",
       "    <tr>\n",
       "      <th>HS-grad</th>\n",
       "      <td>10501</td>\n",
       "      <td>10501</td>\n",
       "      <td>10501</td>\n",
       "      <td>10501</td>\n",
       "      <td>10501</td>\n",
       "      <td>10501</td>\n",
       "      <td>10501</td>\n",
       "      <td>10501</td>\n",
       "      <td>10501</td>\n",
       "      <td>10501</td>\n",
       "      <td>10501</td>\n",
       "      <td>10501</td>\n",
       "      <td>10501</td>\n",
       "      <td>10501</td>\n",
       "      <td>10501</td>\n",
       "    </tr>\n",
       "    <tr>\n",
       "      <th>Masters</th>\n",
       "      <td>1723</td>\n",
       "      <td>1723</td>\n",
       "      <td>1723</td>\n",
       "      <td>1723</td>\n",
       "      <td>1723</td>\n",
       "      <td>1723</td>\n",
       "      <td>1723</td>\n",
       "      <td>1723</td>\n",
       "      <td>1723</td>\n",
       "      <td>1723</td>\n",
       "      <td>1723</td>\n",
       "      <td>1723</td>\n",
       "      <td>1723</td>\n",
       "      <td>1723</td>\n",
       "      <td>1723</td>\n",
       "    </tr>\n",
       "    <tr>\n",
       "      <th>Preschool</th>\n",
       "      <td>51</td>\n",
       "      <td>51</td>\n",
       "      <td>51</td>\n",
       "      <td>51</td>\n",
       "      <td>51</td>\n",
       "      <td>51</td>\n",
       "      <td>51</td>\n",
       "      <td>51</td>\n",
       "      <td>51</td>\n",
       "      <td>51</td>\n",
       "      <td>51</td>\n",
       "      <td>51</td>\n",
       "      <td>51</td>\n",
       "      <td>51</td>\n",
       "      <td>51</td>\n",
       "    </tr>\n",
       "    <tr>\n",
       "      <th>Prof-school</th>\n",
       "      <td>576</td>\n",
       "      <td>576</td>\n",
       "      <td>576</td>\n",
       "      <td>576</td>\n",
       "      <td>576</td>\n",
       "      <td>576</td>\n",
       "      <td>576</td>\n",
       "      <td>576</td>\n",
       "      <td>576</td>\n",
       "      <td>576</td>\n",
       "      <td>576</td>\n",
       "      <td>576</td>\n",
       "      <td>576</td>\n",
       "      <td>576</td>\n",
       "      <td>576</td>\n",
       "    </tr>\n",
       "    <tr>\n",
       "      <th>Some-college</th>\n",
       "      <td>7291</td>\n",
       "      <td>7291</td>\n",
       "      <td>7291</td>\n",
       "      <td>7291</td>\n",
       "      <td>7291</td>\n",
       "      <td>7291</td>\n",
       "      <td>7291</td>\n",
       "      <td>7291</td>\n",
       "      <td>7291</td>\n",
       "      <td>7291</td>\n",
       "      <td>7291</td>\n",
       "      <td>7291</td>\n",
       "      <td>7291</td>\n",
       "      <td>7291</td>\n",
       "      <td>7291</td>\n",
       "    </tr>\n",
       "  </tbody>\n",
       "</table>\n",
       "</div>"
      ],
      "text/plain": [
       "                age  workclass  fnlwgt  education-num  marital-status  \\\n",
       "education                                                               \n",
       "10th            933        933     933            933             933   \n",
       "11th           1175       1175    1175           1175            1175   \n",
       "12th            433        433     433            433             433   \n",
       "1st-4th         168        168     168            168             168   \n",
       "5th-6th         333        333     333            333             333   \n",
       "7th-8th         646        646     646            646             646   \n",
       "9th             514        514     514            514             514   \n",
       "Assoc-acdm     1067       1067    1067           1067            1067   \n",
       "Assoc-voc      1382       1382    1382           1382            1382   \n",
       "Bachelors      5355       5355    5355           5355            5355   \n",
       "Doctorate       413        413     413            413             413   \n",
       "HS-grad       10501      10501   10501          10501           10501   \n",
       "Masters        1723       1723    1723           1723            1723   \n",
       "Preschool        51         51      51             51              51   \n",
       "Prof-school     576        576     576            576             576   \n",
       "Some-college   7291       7291    7291           7291            7291   \n",
       "\n",
       "              occupation  relationship   race    sex  capital-gain  \\\n",
       "education                                                            \n",
       "10th                 933           933    933    933           933   \n",
       "11th                1175          1175   1175   1175          1175   \n",
       "12th                 433           433    433    433           433   \n",
       "1st-4th              168           168    168    168           168   \n",
       "5th-6th              333           333    333    333           333   \n",
       "7th-8th              646           646    646    646           646   \n",
       "9th                  514           514    514    514           514   \n",
       "Assoc-acdm          1067          1067   1067   1067          1067   \n",
       "Assoc-voc           1382          1382   1382   1382          1382   \n",
       "Bachelors           5355          5355   5355   5355          5355   \n",
       "Doctorate            413           413    413    413           413   \n",
       "HS-grad            10501         10501  10501  10501         10501   \n",
       "Masters             1723          1723   1723   1723          1723   \n",
       "Preschool             51            51     51     51            51   \n",
       "Prof-school          576           576    576    576           576   \n",
       "Some-college        7291          7291   7291   7291          7291   \n",
       "\n",
       "              capital-loss  hours-per-week  native-country  salary  \\\n",
       "education                                                            \n",
       "10th                   933             933             933     933   \n",
       "11th                  1175            1175            1175    1175   \n",
       "12th                   433             433             433     433   \n",
       "1st-4th                168             168             168     168   \n",
       "5th-6th                333             333             333     333   \n",
       "7th-8th                646             646             646     646   \n",
       "9th                    514             514             514     514   \n",
       "Assoc-acdm            1067            1067            1067    1067   \n",
       "Assoc-voc             1382            1382            1382    1382   \n",
       "Bachelors             5355            5355            5355    5355   \n",
       "Doctorate              413             413             413     413   \n",
       "HS-grad              10501           10501           10501   10501   \n",
       "Masters               1723            1723            1723    1723   \n",
       "Preschool               51              51              51      51   \n",
       "Prof-school            576             576             576     576   \n",
       "Some-college          7291            7291            7291    7291   \n",
       "\n",
       "              DataFrame Column  \n",
       "education                       \n",
       "10th                       933  \n",
       "11th                      1175  \n",
       "12th                       433  \n",
       "1st-4th                    168  \n",
       "5th-6th                    333  \n",
       "7th-8th                    646  \n",
       "9th                        514  \n",
       "Assoc-acdm                1067  \n",
       "Assoc-voc                 1382  \n",
       "Bachelors                 5355  \n",
       "Doctorate                  413  \n",
       "HS-grad                  10501  \n",
       "Masters                   1723  \n",
       "Preschool                   51  \n",
       "Prof-school                576  \n",
       "Some-college              7291  "
      ]
     },
     "execution_count": 216,
     "metadata": {},
     "output_type": "execute_result"
    }
   ],
   "source": [
    "data.groupby('education').count()"
   ]
  },
  {
   "cell_type": "code",
   "execution_count": 218,
   "metadata": {},
   "outputs": [
    {
     "name": "stdout",
     "output_type": "stream",
     "text": [
      "32561\n"
     ]
    }
   ],
   "source": [
    "# Total with education\n",
    "Total_education = data['education'].count()\n",
    "print(Total_education)"
   ]
  },
  {
   "cell_type": "code",
   "execution_count": 237,
   "metadata": {},
   "outputs": [
    {
     "data": {
      "text/plain": [
       "32561"
      ]
     },
     "execution_count": 237,
     "metadata": {},
     "output_type": "execute_result"
    }
   ],
   "source": [
    "data.shape[0]"
   ]
  },
  {
   "cell_type": "code",
   "execution_count": 238,
   "metadata": {},
   "outputs": [
    {
     "data": {
      "text/plain": [
       "16.44605509658794"
      ]
     },
     "execution_count": 238,
     "metadata": {},
     "output_type": "execute_result"
    }
   ],
   "source": [
    "# Percentage with bachelors degree\n",
    "percentage_of_bachelors = (data.education.value_counts().Bachelors/data.shape[0])*100\n",
    "percentage_of_bachelors"
   ]
  },
  {
   "cell_type": "code",
   "execution_count": 239,
   "metadata": {},
   "outputs": [
    {
     "name": "stdout",
     "output_type": "stream",
     "text": [
      "3486\n"
     ]
    }
   ],
   "source": [
    "#Total number with higher education and making >50K\n",
    "higher_education_makingmore = data.loc[data['education'].str.contains('Bachelors') | data['education'].str.contains('Masters') | data['education'].str.contains('Doctorate') , ['education', 'salary']].loc[data['salary']=='>50K' , 'education'].count()\n",
    "print(higher_education_makingmore)"
   ]
  },
  {
   "cell_type": "code",
   "execution_count": 240,
   "metadata": {},
   "outputs": [
    {
     "data": {
      "text/plain": [
       "3486"
      ]
     },
     "execution_count": 240,
     "metadata": {},
     "output_type": "execute_result"
    }
   ],
   "source": [
    "higher_education_makingmore"
   ]
  },
  {
   "cell_type": "code",
   "execution_count": 241,
   "metadata": {},
   "outputs": [],
   "source": [
    "#Number of persons with higher education\n",
    "higher_education = data.education.value_counts().Bachelors| data.education.value_counts().Masters| data.education.value_counts().Doctorate"
   ]
  },
  {
   "cell_type": "code",
   "execution_count": 242,
   "metadata": {},
   "outputs": [
    {
     "name": "stdout",
     "output_type": "stream",
     "text": [
      "56.74751749959304\n"
     ]
    }
   ],
   "source": [
    "# Percentage with more than 50K salary and a highe education\n",
    "higher_education_rich = (higher_education_makingmore/higher_education) * 100\n",
    "print(higher_education_rich)"
   ]
  },
  {
   "cell_type": "code",
   "execution_count": 243,
   "metadata": {},
   "outputs": [
    {
     "name": "stdout",
     "output_type": "stream",
     "text": [
      "4355\n"
     ]
    }
   ],
   "source": [
    "#Total number with lower education and making >50K\n",
    "lower_education_makingmore = data.loc[data['salary']=='>50K','education'].count()-data.loc[data['education'].str.contains('Bachelors') | data['education'].str.contains('Masters') | data['education'].str.contains('Doctorate') , ['education', 'salary']].loc[data['salary']=='>50K' , 'education'].count()\n",
    "print(lower_education_makingmore)"
   ]
  },
  {
   "cell_type": "code",
   "execution_count": 244,
   "metadata": {},
   "outputs": [
    {
     "data": {
      "text/plain": [
       "4355"
      ]
     },
     "execution_count": 244,
     "metadata": {},
     "output_type": "execute_result"
    }
   ],
   "source": [
    "lower_education_makingmore"
   ]
  },
  {
   "cell_type": "code",
   "execution_count": 245,
   "metadata": {},
   "outputs": [
    {
     "name": "stdout",
     "output_type": "stream",
     "text": [
      "26418\n"
     ]
    }
   ],
   "source": [
    "##Number of persons with lower education\n",
    "lower_education = Total_education -higher_education\n",
    "print(lower_education)"
   ]
  },
  {
   "cell_type": "code",
   "execution_count": 246,
   "metadata": {},
   "outputs": [],
   "source": [
    "#percentage of lower education making more than 50K salary\n",
    "lower_education_rich = (lower_education_makingmore/ lower_education) * 100"
   ]
  },
  {
   "cell_type": "code",
   "execution_count": 247,
   "metadata": {},
   "outputs": [
    {
     "name": "stdout",
     "output_type": "stream",
     "text": [
      "1\n"
     ]
    }
   ],
   "source": [
    "# Finding the minimum work hours for a week\n",
    "min_work_hours = data['hours-per-week'].min()\n",
    "print(min_work_hours)"
   ]
  },
  {
   "cell_type": "code",
   "execution_count": 255,
   "metadata": {},
   "outputs": [
    {
     "name": "stdout",
     "output_type": "stream",
     "text": [
      "2\n"
     ]
    }
   ],
   "source": [
    "#Total number of persons working min hours and salary >50K\n",
    "min_hours_and_rich=data.loc[(data['hours-per-week']==data['hours-per-week'].min()) & (data['salary']=='>50K'),'education'].count()\n",
    "print(min_hours_and_rich)"
   ]
  },
  {
   "cell_type": "code",
   "execution_count": 256,
   "metadata": {},
   "outputs": [
    {
     "name": "stdout",
     "output_type": "stream",
     "text": [
      "18\n"
     ]
    }
   ],
   "source": [
    "#Total number of persons working min hours and salary <=50K\n",
    "min_hours_and_poor=data.loc[(data['hours-per-week']==data['hours-per-week'].min()) & (data['salary']=='<=50K'),'education'].count()\n",
    "print(min_hours_and_poor)"
   ]
  },
  {
   "cell_type": "code",
   "execution_count": 257,
   "metadata": {},
   "outputs": [
    {
     "name": "stdout",
     "output_type": "stream",
     "text": [
      "20\n"
     ]
    }
   ],
   "source": [
    "# Total for min hours\n",
    "num_min_workers=data[data['hours-per-week'] == min_work_hours].shape[0]\n",
    "print(num_min_workers)"
   ]
  },
  {
   "cell_type": "code",
   "execution_count": 258,
   "metadata": {},
   "outputs": [
    {
     "name": "stdout",
     "output_type": "stream",
     "text": [
      "10.0\n"
     ]
    }
   ],
   "source": [
    "#Rich percentage of minimum work hours making >50K\n",
    "rich_percentage = (min_hours_and_rich/num_min_workers)*100\n",
    "print(rich_percentage)"
   ]
  },
  {
   "cell_type": "code",
   "execution_count": 259,
   "metadata": {},
   "outputs": [
    {
     "name": "stdout",
     "output_type": "stream",
     "text": [
      "United-States\n"
     ]
    }
   ],
   "source": [
    "#Highest earning country\n",
    "highest_earning_country = data.loc[data['salary']=='>50K','native-country'].value_counts().index.tolist()[0]\n",
    "print(highest_earning_country)"
   ]
  },
  {
   "cell_type": "code",
   "execution_count": 260,
   "metadata": {},
   "outputs": [
    {
     "name": "stdout",
     "output_type": "stream",
     "text": [
      "91.45517153424308\n"
     ]
    }
   ],
   "source": [
    "# Highest earning country percentage\n",
    "highest_earning_country_percentage = data.loc[data['salary']=='>50K','native-country'].value_counts()[0]/data.loc[data['salary']=='>50K','native-country'].count()*100\n",
    "print(highest_earning_country_percentage)"
   ]
  },
  {
   "cell_type": "code",
   "execution_count": 254,
   "metadata": {},
   "outputs": [
    {
     "name": "stdout",
     "output_type": "stream",
     "text": [
      "Prof-specialty\n"
     ]
    }
   ],
   "source": [
    "# most popular occupation in India making>50K\n",
    "top_IN_occupation = data.loc[(data['salary']=='<=50K') & (data['native-country']=='India'),'occupation'].value_counts().index.tolist()[0]\n",
    "print(top_IN_occupation)"
   ]
  },
  {
   "cell_type": "code",
   "execution_count": null,
   "metadata": {},
   "outputs": [],
   "source": []
  }
 ],
 "metadata": {
  "kernelspec": {
   "display_name": "Python 3",
   "language": "python",
   "name": "python3"
  },
  "language_info": {
   "codemirror_mode": {
    "name": "ipython",
    "version": 3
   },
   "file_extension": ".py",
   "mimetype": "text/x-python",
   "name": "python",
   "nbconvert_exporter": "python",
   "pygments_lexer": "ipython3",
   "version": "3.8.5"
  }
 },
 "nbformat": 4,
 "nbformat_minor": 4
}
